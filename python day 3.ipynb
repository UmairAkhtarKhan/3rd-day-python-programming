{
 "cells": [
  {
   "cell_type": "code",
   "execution_count": 3,
   "id": "effe39ca-a259-4a61-957e-74c2bd7f526f",
   "metadata": {},
   "outputs": [
    {
     "name": "stdin",
     "output_type": "stream",
     "text": [
      "Do you want vote wef\n"
     ]
    },
    {
     "name": "stdout",
     "output_type": "stream",
     "text": [
      "print the value of a,it is default case\n"
     ]
    }
   ],
   "source": [
    "# match case (simillar to switch case in c++, in c++ we use break staement at the end of case but in python we donot)\n",
    "a=input('Do you want vote')\n",
    "match a:\n",
    "   case 'yes':\n",
    "       print('I want vote')           \n",
    "   case 'no':\n",
    "       print('I donot want vote')\n",
    "   case _:\n",
    "       print('print the value of a,it is default case')\n",
    "       \n"
   ]
  },
  {
   "cell_type": "code",
   "execution_count": 10,
   "id": "840767ed-80c4-4099-afde-aa49f9d5faf4",
   "metadata": {},
   "outputs": [
    {
     "name": "stdout",
     "output_type": "stream",
     "text": [
      "u\n",
      "m\n",
      "a\n",
      "i\n",
      "r\n",
      "Red\n",
      "R\n",
      "e\n",
      "d\n",
      "Green\n",
      "G\n",
      "r\n",
      "e\n",
      "e\n",
      "n\n",
      "Blue\n",
      "B\n",
      "l\n",
      "u\n",
      "e\n",
      "Purple\n",
      "P\n",
      "u\n",
      "r\n",
      "p\n",
      "l\n",
      "e\n"
     ]
    }
   ],
   "source": [
    "# loops(sometimes programmer wants to excute statements certain numbers of times for this we use loops ,we have for loop,while loop,nested loop)\n",
    "# for loop(can iterate over a sequence of objects in python,iterating over sequence is lists,strings,dictionaries,sets,tuples)\n",
    "name='umair'\n",
    "# in keyword use to check the value is exist in sequence(lists,strings,dictionaries,sets,tuples) or in for it is used to iterate sequence\n",
    "for i in name:\n",
    "    print(i)\n",
    "colors=['Red','Green','Blue','Purple']\n",
    "# nested for loop (inside for loop another forloop)\n",
    "for color in colors:\n",
    "    print(color)\n",
    "    for i in color:\n",
    "       print(i)"
   ]
  },
  {
   "cell_type": "code",
   "execution_count": 21,
   "id": "e4ee965c-89fd-4358-ba25-0d9114c97bc7",
   "metadata": {},
   "outputs": [
    {
     "name": "stdout",
     "output_type": "stream",
     "text": [
      "0\n",
      "1\n",
      "2\n",
      "3\n",
      "4\n",
      "1,2,3,4,5,if want to start from 1 to 4 we can do\n",
      "1\n",
      "2\n",
      "3\n",
      "4\n",
      "if want to start from 1 to 10 and step by 2 we can do\n",
      "1\n",
      "3\n",
      "5\n",
      "7\n",
      "9\n"
     ]
    }
   ],
   "source": [
    "# range function give us a range,range function have three stepsor arguments range(start,end,step),when we donot give start argument it will start from 0\n",
    "# below will start from zero and ends on 4\n",
    "for r in range(5):\n",
    "    print(r)\n",
    "# if want to start from 1 to 4 we can do\n",
    "for r1 in range(5):\n",
    "    # end removes bydefault \\n from print statment \n",
    "    print(r1+1,end=',')# if want to start from 1 to 4 we can do\n",
    "# if want to start from 1 to 4 we can do\n",
    "print('if want to start from 1 to 4 we can also do')\n",
    "for r2 in range(1,5):\n",
    "    print(r2)\n",
    "# if want to start from 1 to 10 and step by 2 we can do\n",
    "print('if want to start from 1 to 10 and step by 2 we can do')\n",
    "for r2 in range(1,10,2):\n",
    "    print(r2)\n",
    "\n",
    "\n",
    "\n",
    "\n"
   ]
  },
  {
   "cell_type": "code",
   "execution_count": 13,
   "id": "1093fd4b-3e21-4521-92fb-f0e6771efda7",
   "metadata": {},
   "outputs": [
    {
     "name": "stdout",
     "output_type": "stream",
     "text": [
      "0\n",
      "1\n",
      "2\n",
      "when same as above we want to do with while loop\n",
      "0\n",
      "1\n",
      "2\n"
     ]
    },
    {
     "name": "stdin",
     "output_type": "stream",
     "text": [
      " 0\n",
      "enter the value of unless it is equal to 40 : 123\n"
     ]
    },
    {
     "name": "stdout",
     "output_type": "stream",
     "text": [
      "123\n",
      "done with loop\n",
      "decrementing while loop\n",
      "5\n",
      "4\n",
      "3\n",
      "2\n",
      "1\n",
      "incrementing while loop\n",
      "0\n",
      "1\n",
      "2\n",
      "3\n",
      "4\n",
      "5\n",
      "condition false now we outside the while loop\n"
     ]
    }
   ],
   "source": [
    "# while loops(while loops statments executes while the condition is true when condition false while loop stops )\n",
    "for i in range(3):\n",
    "    print(i)\n",
    "# when same as above we want to do with while loop\n",
    "print('when same as above we want to do with while loop')\n",
    "w=0\n",
    "while w<3:\n",
    "    print(w)\n",
    "    w+=1\n",
    "# maximum time while is not used with numbers it is used with complex conditions\n",
    "# do while loop not in python but in other programming languages like(c++),it excute statment before running to while loop condition \n",
    "w1=int(input())\n",
    "while w1<=40:\n",
    "    w1=int(input('enter the value of unless it is equal to 40 :'))\n",
    "    print(w1)\n",
    "print('done with loop')\n",
    "# decrementing while loop\n",
    "print('decrementing while loop')\n",
    "w3=5\n",
    "while w3>0:\n",
    "    print(w3)\n",
    "    w3=w3-1\n",
    "# we can use else with while loop\n",
    "print(\"incrementing while loop\")\n",
    "w4=0\n",
    "while w4<6:\n",
    "    print(w4)\n",
    "    w4=w4+1\n",
    "else:\n",
    "    print(\"condition false now we outside the while loop\")\n",
    "\n"
   ]
  },
  {
   "cell_type": "code",
   "execution_count": 18,
   "id": "a5ebc017-f4c2-4de2-99c1-ae64a230641e",
   "metadata": {},
   "outputs": [
    {
     "name": "stdout",
     "output_type": "stream",
     "text": [
      "1,3,5,7,9,11,13,15,now we are out side the loop\n"
     ]
    }
   ],
   "source": [
    "# break and continue statment\n",
    "# break statment(break statment skip or terminate the particular part of code from excution \n",
    "# or in loop we can say it skip the  iteration in the loop in which he lies)\n",
    "for b in range(1,30,2):\n",
    "    print(b,end=',')\n",
    "    if b==15:\n",
    "        break\n",
    "print(\"now we are out side the loop\")"
   ]
  },
  {
   "cell_type": "code",
   "execution_count": 28,
   "id": "a1d1952a-87e2-45aa-82aa-58e704c72828",
   "metadata": {},
   "outputs": [
    {
     "name": "stdout",
     "output_type": "stream",
     "text": [
      "5 X 0 = 0\n",
      "5 X 1 = 5\n",
      "5 X 2 = 10\n",
      "5 X 3 = 15\n",
      "5 X 4 = 20\n",
      "5 X 5 = 25\n",
      "5 X 6 = 30\n",
      "5 X 7 = 35\n",
      "5 X 8 = 40\n",
      "5 X 9 = 45\n",
      "5 X 10 = 50\n"
     ]
    }
   ],
   "source": [
    "# print the table of 5 and use break \n",
    "for t in range(12):\n",
    "    print('5 X',t,'=',5*t)\n",
    "    if t ==10:\n",
    "        break"
   ]
  },
  {
   "cell_type": "code",
   "execution_count": 34,
   "id": "17b4b7ba-abbe-40da-8d2a-429c467a548a",
   "metadata": {},
   "outputs": [
    {
     "name": "stdout",
     "output_type": "stream",
     "text": [
      "5 X 0 = 0\n",
      "5 X 1 = 5\n",
      "5 X 2 = 10\n",
      "5 X 3 = 15\n",
      "5 X 4 = 20\n",
      "5 X 5 = 25\n",
      "5 X 6 = 30\n",
      "5 X 7 = 35\n",
      "5 X 8 = 40\n",
      "skip the specfic iteration\n",
      "5 X 10 = 50\n",
      "5 X 11 = 55\n"
     ]
    }
   ],
   "source": [
    "# continue statment skip the specfic iteration and jump to the next iteration occur and break terminates the whole loop\n",
    "for t in range(12):\n",
    "    \n",
    "    if t==9:\n",
    "        print('skip the specfic iteration')\n",
    "        continue\n",
    "    print('5 X',t,'=',5*t)\n",
    "    "
   ]
  },
  {
   "cell_type": "code",
   "execution_count": null,
   "id": "460cc76a-418e-44ff-9dab-e720c79b01f0",
   "metadata": {},
   "outputs": [],
   "source": []
  }
 ],
 "metadata": {
  "kernelspec": {
   "display_name": "Python 3 (ipykernel)",
   "language": "python",
   "name": "python3"
  },
  "language_info": {
   "codemirror_mode": {
    "name": "ipython",
    "version": 3
   },
   "file_extension": ".py",
   "mimetype": "text/x-python",
   "name": "python",
   "nbconvert_exporter": "python",
   "pygments_lexer": "ipython3",
   "version": "3.11.7"
  }
 },
 "nbformat": 4,
 "nbformat_minor": 5
}
